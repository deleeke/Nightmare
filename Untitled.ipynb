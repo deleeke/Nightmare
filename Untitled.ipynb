{
 "cells": [
  {
   "cell_type": "code",
   "execution_count": 48,
   "metadata": {
    "collapsed": false
   },
   "outputs": [
    {
     "ename": "IOError",
     "evalue": "[Errno 2] No such file or directory: 'usrattack.txt'",
     "output_type": "error",
     "traceback": [
      "\u001b[1;31m---------------------------------------------------------------------------\u001b[0m",
      "\u001b[1;31mIOError\u001b[0m                                   Traceback (most recent call last)",
      "\u001b[1;32m<ipython-input-48-864fa6ea1c0a>\u001b[0m in \u001b[0;36m<module>\u001b[1;34m()\u001b[0m\n\u001b[0;32m      2\u001b[0m \u001b[1;33m\u001b[0m\u001b[0m\n\u001b[0;32m      3\u001b[0m \u001b[0mf\u001b[0m \u001b[1;33m=\u001b[0m \u001b[1;34m'usrattack.txt'\u001b[0m\u001b[1;33m\u001b[0m\u001b[0m\n\u001b[1;32m----> 4\u001b[1;33m \u001b[0mtext\u001b[0m \u001b[1;33m=\u001b[0m \u001b[0mopen\u001b[0m\u001b[1;33m(\u001b[0m\u001b[0mf\u001b[0m\u001b[1;33m)\u001b[0m\u001b[1;33m\u001b[0m\u001b[0m\n\u001b[0m\u001b[0;32m      5\u001b[0m \u001b[0mtext\u001b[0m \u001b[1;33m=\u001b[0m \u001b[0mtext\u001b[0m\u001b[1;33m.\u001b[0m\u001b[0mread\u001b[0m\u001b[1;33m(\u001b[0m\u001b[1;33m)\u001b[0m\u001b[1;33m\u001b[0m\u001b[0m\n\u001b[0;32m      6\u001b[0m \u001b[0mtext\u001b[0m \u001b[1;33m=\u001b[0m \u001b[1;33m[\u001b[0m\u001b[0mstring\u001b[0m\u001b[1;33m.\u001b[0m\u001b[0mstrip\u001b[0m\u001b[1;33m(\u001b[0m\u001b[0mtext\u001b[0m\u001b[1;33m)\u001b[0m\u001b[1;33m.\u001b[0m\u001b[0mreplace\u001b[0m\u001b[1;33m(\u001b[0m\u001b[1;34m\"star\"\u001b[0m\u001b[1;33m,\u001b[0m \u001b[1;34m\"\"\u001b[0m\u001b[1;33m)\u001b[0m\u001b[1;33m.\u001b[0m\u001b[0mreplace\u001b[0m\u001b[1;33m(\u001b[0m\u001b[1;34m\" \"\u001b[0m\u001b[1;33m,\u001b[0m \u001b[1;34m\"\"\u001b[0m\u001b[1;33m)\u001b[0m\u001b[1;33m.\u001b[0m\u001b[0mreplace\u001b[0m\u001b[1;33m(\u001b[0m\u001b[1;34m'\\t'\u001b[0m\u001b[1;33m,\u001b[0m\u001b[1;34m''\u001b[0m\u001b[1;33m)\u001b[0m\u001b[1;33m]\u001b[0m\u001b[1;33m\u001b[0m\u001b[0m\n",
      "\u001b[1;31mIOError\u001b[0m: [Errno 2] No such file or directory: 'usrattack.txt'"
     ]
    }
   ],
   "source": [
    "\n",
    "\n",
    "f = 'usrattack.txt'\n",
    "text = open(f)\n",
    "text = text.read()\n",
    "text = [string.strip(text).replace(\"star\", \"\").replace(\" \", \"\").replace('\\t','')]\n"
   ]
  },
  {
   "cell_type": "code",
   "execution_count": 26,
   "metadata": {
    "collapsed": false
   },
   "outputs": [
    {
     "name": "stdout",
     "output_type": "stream",
     "text": [
      "['aggression\\nbarrage\\ncharge\\nincursion\\nintervention\\nintrusion\\ninvasion\\noffensive\\nonslaught\\noutbreak\\n\\nraid\\nrape\\nskirmish\\nstrike\\nviolation\\nadvance\\nassailing\\nblitz\\nblitzkrieg\\ndefilement\\n\\ndrive\\nencounter\\nencroachment\\nforay\\ninitiative\\ninroad\\nirruption\\nmugging\\noffense\\nonrush\\n\\nonset\\npush\\nrush\\nstorming\\nthrust\\nvolley\\nassailment\\ndirtydeed']\n"
     ]
    }
   ],
   "source": [
    "print text"
   ]
  },
  {
   "cell_type": "code",
   "execution_count": 29,
   "metadata": {
    "collapsed": false
   },
   "outputs": [],
   "source": [
    "text_file = open(\"usrattack.txt\", \"w\")\n",
    "text_file.write(\"%s\" % text)\n",
    "text_file.close()"
   ]
  },
  {
   "cell_type": "code",
   "execution_count": 22,
   "metadata": {
    "collapsed": false
   },
   "outputs": [
    {
     "ename": "AttributeError",
     "evalue": "'str' object has no attribute 'write'",
     "output_type": "error",
     "traceback": [
      "\u001b[1;31m---------------------------------------------------------------------------\u001b[0m",
      "\u001b[1;31mAttributeError\u001b[0m                            Traceback (most recent call last)",
      "\u001b[1;32m<ipython-input-22-cc07f6f3c434>\u001b[0m in \u001b[0;36m<module>\u001b[1;34m()\u001b[0m\n\u001b[1;32m----> 1\u001b[1;33m \u001b[0mtext\u001b[0m\u001b[1;33m.\u001b[0m\u001b[0mwrite\u001b[0m\u001b[1;33m(\u001b[0m\u001b[0mf\u001b[0m\u001b[1;33m)\u001b[0m\u001b[1;33m\u001b[0m\u001b[0m\n\u001b[0m",
      "\u001b[1;31mAttributeError\u001b[0m: 'str' object has no attribute 'write'"
     ]
    }
   ],
   "source": []
  },
  {
   "cell_type": "code",
   "execution_count": 24,
   "metadata": {
    "collapsed": false
   },
   "outputs": [
    {
     "data": {
      "text/plain": [
       "str"
      ]
     },
     "execution_count": 24,
     "metadata": {},
     "output_type": "execute_result"
    }
   ],
   "source": []
  },
  {
   "cell_type": "code",
   "execution_count": 6,
   "metadata": {
    "collapsed": false
   },
   "outputs": [],
   "source": [
    "import os.path\n",
    "import sys\n",
    "import random\n",
    "import string\n",
    "from time import sleep\n",
    "\n",
    "class NewUsr(object):\n",
    "    \n",
    "    def __init__(self, name, age):\n",
    "        self.name = name\n",
    "        self.age = age\n",
    "\n",
    "    def UsrData():\n",
    "       pass\n",
    "\n",
    "class AIDict(object):\n",
    "   def importData(self, filename1, filename2):\n",
    "       usrtxt = open(filename1)\n",
    "       usrtxt = usrtxt.read()\n",
    "       self.usrKeywords = usrtxt.split('\\n')\n",
    "       del(self.usrKeywords[-1])\n",
    "       aitxt= open(filename2)\n",
    "       aitxt = aitxt.read()\n",
    "       self.aiResponse = aitxt.split('\\n')\n",
    "       del(self.aiResponse[-1])\n",
    "       \n",
    "\n",
    "class Scene(object):\n",
    "    def __init__(self, storytxt, usrtxt, failtxt):\n",
    "        self.storytxt = storytxt\n",
    "        self.usrtxt = usrtxt\n",
    "        self.failtxt = failtxt\n",
    "    \n",
    "    def printline(self, textfile, x):\n",
    "        txt = open(textfile)\n",
    "        txt = txt.read()\n",
    "        txt = txt.split('-')\n",
    "        self.txt = txt\n",
    "        return self.txt[x]\n",
    "\n",
    "    def randline(self, textfile):\n",
    "        lines = open(textfile)\n",
    "        lines = lines.read()\n",
    "        lines = lines.split('-')\n",
    "        line = lines[random.randint(0,len(lines))]\n",
    "        return line\n",
    "\n",
    "    def printslow(self, textfile, x, y):\n",
    "        txt = open(textfile)\n",
    "        txt = txt.read()\n",
    "        txt = txt.split('-')\n",
    "        self.txt = txt\n",
    "        i = x\n",
    "        for line in self.txt[x:y]:\n",
    "            if self.txt[i] != None:\n",
    "                print self.txt[i]\n",
    "                i += 1\n",
    "                sleep(2)\n",
    "        pass\n",
    "\n",
    "\n",
    "lives = [1,2,3]\n",
    "usr = NewUsr('Laura Kraft', 30)\n",
    "\n",
    "runAway = AIDict()\n",
    "runAway.importData('usrRun.txt','aiRunresponse.txt')\n",
    "attack = AIDict()\n",
    "attack.importData('usrAttack.txt', 'aiAttackresponse.txt')\n",
    "\n",
    "usrAction = [attack.usrKeywords, runAway.usrKeywords]\n",
    "aiLines = [attack.aiResponse, runAway.aiResponse]\n",
    "\n",
    "start = Scene('mainentry.txt','','')\n",
    "date = Scene('dateEntry.txt', 'quotes.txt','datefail.txt')\n",
    "job = Scene('','','')\n",
    "fridge = Scene('','','')\n",
    "\n"
   ]
  },
  {
   "cell_type": "code",
   "execution_count": 53,
   "metadata": {
    "collapsed": false
   },
   "outputs": [
    {
     "name": "stdout",
     "output_type": "stream",
     "text": [
      "In one word, what do you do? > poop then run\n",
      "In the for loop for the 0 time\n",
      "In the for loop for the 1 time\n",
      "broke out of the loop\n"
     ]
    }
   ],
   "source": [
    "usrinput = str(raw_input('In one word, what do you do? > ')).lower()\n",
    "\n",
    "\n",
    "for i in range(0,len(usrAction)):\n",
    "    print 'In the for loop for the %r time' % i\n",
    "    if usrinput in usrAction[i]:\n",
    "        print 'usrinput in usrAction[%r] is True' % i\n",
    "        print aiLines[i][random.randint(0,len(aiLines[i]))]\n",
    "        break\n",
    "print 'broke out of the loop'"
   ]
  },
  {
   "cell_type": "code",
   "execution_count": 60,
   "metadata": {
    "collapsed": false
   },
   "outputs": [
    {
     "name": "stdout",
     "output_type": "stream",
     "text": [
      "what do you do? > poop then RUN\n",
      "in the loop for the 0 time\n",
      "in the loop for the 1 time\n",
      "broke out of inner loop\n",
      "in the loop for the 0 time\n",
      "in the loop for the 1 time\n",
      "broke out of inner loop\n",
      "in the loop for the 0 time\n",
      "in the loop for the 1 time\n",
      "usrinput in usrAction[1] True\n",
      "The floor turns to lava and you are instantly incenerated!\n",
      "broke out of inner loop\n",
      "broke out of the outer loop\n"
     ]
    }
   ],
   "source": [
    "usrinput = raw_input('what do you do? > ').lower()\n",
    "# punctuation = '! @ # $ % ^ * ( ) _ - + = ~ ` ? \" \\' . , / \\\\'.split(' ') \n",
    "usrinput = usrinput.split(' ')\n",
    "for word in usrinput:\n",
    "    for i in range(0,len(usrAction)):\n",
    "        print 'in the loop for the %r time' % i\n",
    "        if word in usrAction[i]:\n",
    "            print 'usrinput in usrAction[%r] True' % i     \n",
    "            print aiLines[i][random.randint(0,(len(aiLines[i][:])-1))]\n",
    "            break\n",
    "    print 'broke out of inner loop'\n",
    "print 'broke out of the outer loop'"
   ]
  },
  {
   "cell_type": "code",
   "execution_count": 26,
   "metadata": {
    "collapsed": false
   },
   "outputs": [
    {
     "data": {
      "text/plain": [
       "66"
      ]
     },
     "execution_count": 26,
     "metadata": {},
     "output_type": "execute_result"
    }
   ],
   "source": [
    "len(aiLines[1][-1])"
   ]
  },
  {
   "cell_type": "code",
   "execution_count": 29,
   "metadata": {
    "collapsed": false
   },
   "outputs": [
    {
     "ename": "IndexError",
     "evalue": "list index out of range",
     "output_type": "error",
     "traceback": [
      "\u001b[1;31m---------------------------------------------------------------------------\u001b[0m",
      "\u001b[1;31mIndexError\u001b[0m                                Traceback (most recent call last)",
      "\u001b[1;32m<ipython-input-29-0a61a1617d89>\u001b[0m in \u001b[0;36m<module>\u001b[1;34m()\u001b[0m\n\u001b[1;32m----> 1\u001b[1;33m \u001b[0maiLines\u001b[0m\u001b[1;33m[\u001b[0m\u001b[1;36m1\u001b[0m\u001b[1;33m]\u001b[0m\u001b[1;33m[\u001b[0m\u001b[1;36m64\u001b[0m\u001b[1;33m]\u001b[0m\u001b[1;33m\u001b[0m\u001b[0m\n\u001b[0m",
      "\u001b[1;31mIndexError\u001b[0m: list index out of range"
     ]
    }
   ],
   "source": [
    "aiLines[1][64]"
   ]
  },
  {
   "cell_type": "code",
   "execution_count": 30,
   "metadata": {
    "collapsed": false
   },
   "outputs": [
    {
     "data": {
      "text/plain": [
       "'You realize that you are actually in a wormhole!'"
      ]
     },
     "execution_count": 30,
     "metadata": {},
     "output_type": "execute_result"
    }
   ],
   "source": [
    "aiLines[1][2]\n"
   ]
  },
  {
   "cell_type": "code",
   "execution_count": 31,
   "metadata": {
    "collapsed": false
   },
   "outputs": [
    {
     "data": {
      "text/plain": [
       "5"
      ]
     },
     "execution_count": 31,
     "metadata": {},
     "output_type": "execute_result"
    }
   ],
   "source": [
    "len(aiLines[1][:])"
   ]
  },
  {
   "cell_type": "code",
   "execution_count": 33,
   "metadata": {
    "collapsed": false
   },
   "outputs": [
    {
     "data": {
      "text/plain": [
       "\"You can't do anything! Are you dreaming that you're dreaming!???!?\""
      ]
     },
     "execution_count": 33,
     "metadata": {},
     "output_type": "execute_result"
    }
   ],
   "source": [
    "aiLines[1][4]"
   ]
  },
  {
   "cell_type": "code",
   "execution_count": 39,
   "metadata": {
    "collapsed": false
   },
   "outputs": [
    {
     "name": "stdout",
     "output_type": "stream",
     "text": [
      "The floor turns to lava and you are instantly incenerated!\n"
     ]
    }
   ],
   "source": [
    "print aiLines[i][random.randint(0,(len(aiLines[i][:])-1))]"
   ]
  },
  {
   "cell_type": "code",
   "execution_count": 61,
   "metadata": {
    "collapsed": false
   },
   "outputs": [
    {
     "name": "stdout",
     "output_type": "stream",
     "text": [
      "In one word, what do you do? > poop then run\n",
      "in the loop for the 0 time\n",
      "in the loop for the 1 time\n"
     ]
    }
   ],
   "source": [
    "            usrinput = str(raw_input('In one word, what do you do? > ')).lower()\n",
    "            for i in range(0,len(usrAction)):\n",
    "                print 'in the loop for the %r time' % i\n",
    "                if usrinput in usrAction[i]:\n",
    "                    print 'usrinput in usrAction[%r] is True' % i\n",
    "                    print aiLines[i][random.randint(0,(len(aiLines[i][:])-1))]"
   ]
  },
  {
   "cell_type": "code",
   "execution_count": 62,
   "metadata": {
    "collapsed": false
   },
   "outputs": [
    {
     "name": "stdout",
     "output_type": "stream",
     "text": [
      "[['You lash out but your arms dissolve into dust :0', 'Your efforts are futile', 'Your uncle burst out his chest with a dead octopus and attacks you', \"You can't seem to do any damage!\", 'You try to move but you feel as though you are tied down.'], ['You attempt to get away, but you have no feet!', 'The floor turns to lava and you are instantly incenerated!', 'You realize that you are actually in a wormhole!', \"Wait, you're not dreaming, you are in a spaceship under deep sedation.\", \"You can't do anything! Are you dreaming that you're dreaming!???!?\"]]\n"
     ]
    }
   ],
   "source": [
    "print aiLines"
   ]
  },
  {
   "cell_type": "code",
   "execution_count": 12,
   "metadata": {
    "collapsed": false
   },
   "outputs": [
    {
     "name": "stdout",
     "output_type": "stream",
     "text": [
      "what do you do? > run\n",
      "in the loop for the 0 time\n",
      "in the loop for the 1 time\n",
      "usrinput in usrAction[1] True\n",
      "You attempt to get away, but you have no feet!\n",
      "broke out of inner loop\n"
     ]
    }
   ],
   "source": [
    "            usrinput = raw_input('what do you do? > ').lower()\n",
    "            usrinput = usrinput.split(' ')\n",
    "            keywords = False\n",
    "            for word in usrinput:\n",
    "                for i in range(0,len(usrAction)):\n",
    "                    print 'in the loop for the %r time' % i\n",
    "                    if word in usrAction[i]:\n",
    "                        keywords = True\n",
    "                        print 'usrinput in usrAction[%r] True' % i     \n",
    "                        print aiLines[i][random.randint(0,(len(aiLines[i][:])-1))]\n",
    "                        print 'broke out of inner loop'\n",
    "            if keywords == False:\n",
    "                print date.printline(date.storytxt, -1)\n",
    "                sleep(2)\n",
    "                print date.randline(date.usrtxt)\n",
    "                sleep(2)\n",
    "                date.printslow(date.failtxt, 0, -1)"
   ]
  },
  {
   "cell_type": "code",
   "execution_count": 68,
   "metadata": {
    "collapsed": false
   },
   "outputs": [
    {
     "data": {
      "text/plain": [
       "int"
      ]
     },
     "execution_count": 68,
     "metadata": {},
     "output_type": "execute_result"
    }
   ],
   "source": [
    "int"
   ]
  },
  {
   "cell_type": "code",
   "execution_count": 69,
   "metadata": {
    "collapsed": false
   },
   "outputs": [
    {
     "data": {
      "text/plain": [
       "False"
      ]
     },
     "execution_count": 69,
     "metadata": {},
     "output_type": "execute_result"
    }
   ],
   "source": [
    "10 is int"
   ]
  },
  {
   "cell_type": "code",
   "execution_count": 3,
   "metadata": {
    "collapsed": false
   },
   "outputs": [
    {
     "name": "stdout",
     "output_type": "stream",
     "text": [
      "\n",
      "Welcome to NIGHTMARE()\n",
      "It will be unpleasant...\n",
      "\n",
      "Enter Usr Name > poop\n",
      "Enter your age > 19\n",
      "\n",
      "    On a scale from one to ten,\n",
      "\n",
      "    how terrible would you like this game to be?\n",
      "    \n",
      " (10 being really terrible) > 3\n",
      "[1, 2]\n"
     ]
    }
   ],
   "source": [
    "print \"\"\"\n",
    "Welcome to NIGHTMARE()\n",
    "It will be unpleasant...\n",
    "\"\"\"\n",
    "name = str(raw_input(\"Enter Usr Name > \"))\n",
    "age = 0\n",
    "while int(age) not in range(1, 200):\n",
    "    age = str(raw_input(\"Enter your age > \"))\n",
    "    if int(age) < 18:\n",
    "        print \"Sorry this game is not age appropriate.\"\n",
    "        sys.exit(0)\n",
    "lives = 0\n",
    "while int(lives) not in range(1,11):\n",
    "    lives = raw_input(\"\"\"\n",
    "    On a scale from one to ten,\\n\n",
    "    how terrible would you like this game to be?\n",
    "    \\n (10 being really terrible) > \"\"\")\n",
    "    \n",
    "lives = range(1, int(lives))\n",
    "print lives"
   ]
  },
  {
   "cell_type": "code",
   "execution_count": 5,
   "metadata": {
    "collapsed": false
   },
   "outputs": [
    {
     "name": "stdout",
     "output_type": "stream",
     "text": [
      "poop The floor turns to lava and you are instantly incenerated!\n"
     ]
    }
   ],
   "source": [
    "print name, aiLines[1][1]"
   ]
  },
  {
   "cell_type": "code",
   "execution_count": 7,
   "metadata": {
    "collapsed": false
   },
   "outputs": [
    {
     "ename": "TypeError",
     "evalue": "int() argument must be a string or a number, not 'list'",
     "output_type": "error",
     "traceback": [
      "\u001b[1;31m---------------------------------------------------------------------------\u001b[0m",
      "\u001b[1;31mTypeError\u001b[0m                                 Traceback (most recent call last)",
      "\u001b[1;32m<ipython-input-7-2463fdb4a080>\u001b[0m in \u001b[0;36m<module>\u001b[1;34m()\u001b[0m\n\u001b[1;32m----> 1\u001b[1;33m \u001b[0mlives\u001b[0m \u001b[1;33m=\u001b[0m \u001b[0mrange\u001b[0m\u001b[1;33m(\u001b[0m\u001b[1;36m1\u001b[0m\u001b[1;33m,\u001b[0m \u001b[0mint\u001b[0m\u001b[1;33m(\u001b[0m\u001b[0mlives\u001b[0m\u001b[1;33m)\u001b[0m\u001b[1;33m)\u001b[0m\u001b[1;33m\u001b[0m\u001b[0m\n\u001b[0m\u001b[0;32m      2\u001b[0m \u001b[1;32mprint\u001b[0m \u001b[0mlives\u001b[0m\u001b[1;33m\u001b[0m\u001b[0m\n",
      "\u001b[1;31mTypeError\u001b[0m: int() argument must be a string or a number, not 'list'"
     ]
    }
   ],
   "source": [
    "lives = range(1, int(lives))\n",
    "print lives"
   ]
  },
  {
   "cell_type": "code",
   "execution_count": null,
   "metadata": {
    "collapsed": true
   },
   "outputs": [],
   "source": []
  }
 ],
 "metadata": {
  "kernelspec": {
   "display_name": "Python 2",
   "language": "python",
   "name": "python2"
  },
  "language_info": {
   "codemirror_mode": {
    "name": "ipython",
    "version": 2
   },
   "file_extension": ".py",
   "mimetype": "text/x-python",
   "name": "python",
   "nbconvert_exporter": "python",
   "pygments_lexer": "ipython2",
   "version": "2.7.10"
  }
 },
 "nbformat": 4,
 "nbformat_minor": 0
}
